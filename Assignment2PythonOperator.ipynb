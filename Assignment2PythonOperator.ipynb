{
  "nbformat": 4,
  "nbformat_minor": 0,
  "metadata": {
    "colab": {
      "provenance": []
    },
    "kernelspec": {
      "name": "python3",
      "display_name": "Python 3"
    },
    "language_info": {
      "name": "python"
    }
  },
  "cells": [
    {
      "cell_type": "code",
      "execution_count": 2,
      "metadata": {
        "id": "FG2VXIykGZSh",
        "colab": {
          "base_uri": "https://localhost:8080/"
        },
        "outputId": "d94b63ec-a45d-449a-b568-6024ceb04928"
      },
      "outputs": [
        {
          "output_type": "stream",
          "name": "stdout",
          "text": [
            "Sum of 15 and 12 is 27\n",
            "Subtraction using the Minus Operator: 5\n",
            "product using the Operator: 50\n",
            "Divide using the Operator: 2.0\n"
          ]
        }
      ],
      "source": [
        "'''1. Calculate the sum, difference, product, and quotient of two numbers.'''\n",
        "\n",
        "# sum of Two Number\n",
        "num1 = 15\n",
        "num2 = 12\n",
        "sum = num1 + num2\n",
        "print(\"Sum of\", num1, \"and\", num2 , \"is\", sum)\n",
        "\n",
        "#Difference of Two Number\n",
        "num1 = 10\n",
        "num2 = 5\n",
        "result = num1 - num2\n",
        "print(\"Subtraction using the Minus Operator:\", result)\n",
        "\n",
        "#Product Of Two Number\n",
        "num5 = 10\n",
        "num6 = 5\n",
        "result = num1 * num2\n",
        "print(\"product using the Operator:\", result)\n",
        "\n",
        "#Quotient Of Two Number\n",
        "num7 = 100\n",
        "num8 = 5\n",
        "result = num1 / num2\n",
        "print(\"Divide using the Operator:\", result)"
      ]
    },
    {
      "cell_type": "markdown",
      "source": [],
      "metadata": {
        "id": "bDkwg0j-Gdl_"
      }
    },
    {
      "cell_type": "markdown",
      "source": [
        "2.** Perform various assignment operations on a variable.**"
      ],
      "metadata": {
        "id": "kpn_WIuIxpWo"
      }
    },
    {
      "cell_type": "code",
      "source": [
        "#Multiply and assign\n",
        "a = 3\n",
        "b = 5\n",
        "# a = a * b\n",
        "a *= b\n",
        "# Output\n",
        "print(a)\n",
        "#Modulas and assign\n",
        "a = 3\n",
        "b = 5\n",
        "\n",
        "# a = a % b\n",
        "a %= b\n",
        "\n",
        "# Output\n",
        "print(a)\n"
      ],
      "metadata": {
        "colab": {
          "base_uri": "https://localhost:8080/"
        },
        "id": "37H-MsmIx9Yc",
        "outputId": "df0b6a7d-f82b-44e4-b551-c4e629fcc3c3"
      },
      "execution_count": 3,
      "outputs": [
        {
          "output_type": "stream",
          "name": "stdout",
          "text": [
            "15\n",
            "3\n"
          ]
        }
      ]
    },
    {
      "cell_type": "markdown",
      "source": [
        "3.**Compare two numbers and print the results.**"
      ],
      "metadata": {
        "id": "Kjz4sj1yyNQV"
      }
    },
    {
      "cell_type": "code",
      "source": [
        "# Compare Two Number\n",
        "a=5\n",
        "b=7\n",
        "print (a>b)\n",
        "print (a<b)"
      ],
      "metadata": {
        "colab": {
          "base_uri": "https://localhost:8080/"
        },
        "id": "imlWc2UuyU9s",
        "outputId": "2c85b75e-b6c1-4d8e-c4ca-7a62a635bda2"
      },
      "execution_count": 4,
      "outputs": [
        {
          "output_type": "stream",
          "name": "stdout",
          "text": [
            "False\n",
            "True\n"
          ]
        }
      ]
    },
    {
      "cell_type": "markdown",
      "source": [
        "4. Check conditions using logical operators."
      ],
      "metadata": {
        "id": "o4hxBZnYydre"
      }
    },
    {
      "cell_type": "code",
      "source": [
        "# logical operator\n",
        "a = 10\n",
        "b = 10\n",
        "c = -10\n",
        "if a > 0 and b > 0:\n",
        "    print(\"The numbers are greater than 0\")\n",
        "if a > 0 and b > 0 and c > 0:\n",
        "    print(\"The numbers are greater than 0\")\n",
        "else:\n",
        "    print(\"Atleast one number is not greater than 0\")"
      ],
      "metadata": {
        "colab": {
          "base_uri": "https://localhost:8080/"
        },
        "id": "5Ni3Poimyjal",
        "outputId": "e8de7a52-bdb0-4160-ceb2-48a7f32808d1"
      },
      "execution_count": 5,
      "outputs": [
        {
          "output_type": "stream",
          "name": "stdout",
          "text": [
            "The numbers are greater than 0\n",
            "Atleast one number is not greater than 0\n"
          ]
        }
      ]
    },
    {
      "cell_type": "markdown",
      "source": [
        "**5. Check the identity of variables.**"
      ],
      "metadata": {
        "id": "yh7f-92hysLP"
      }
    },
    {
      "cell_type": "code",
      "source": [
        "# This program shows various identities\n",
        "str1 = \"Anjali\"\n",
        "print(id(str1))\n",
        "\n",
        "str2 = \"Anjali\"\n",
        "print(id(str2))\n",
        "\n",
        "# This will return True\n",
        "print(id(str1) == id(str2))\n",
        "\n",
        "# Use in Lists\n",
        "list1 = [\"Anu\", \"Asmita\", \"Susmita\"]\n",
        "print(id(list1[0]))\n",
        "print(id(list1[2]))\n",
        "\n",
        "# This returns false\n",
        "print(id(list1[0])==id(list1[2]))"
      ],
      "metadata": {
        "colab": {
          "base_uri": "https://localhost:8080/"
        },
        "id": "qaN_YSQXy2E3",
        "outputId": "ad43f76b-651a-4190-da38-925c864d862f"
      },
      "execution_count": 6,
      "outputs": [
        {
          "output_type": "stream",
          "name": "stdout",
          "text": [
            "134076589474544\n",
            "134076589474544\n",
            "True\n",
            "134076589484464\n",
            "134076589484592\n",
            "False\n"
          ]
        }
      ]
    },
    {
      "cell_type": "markdown",
      "source": [
        "6. **«, Perform bitwise operations on any two integers.**"
      ],
      "metadata": {
        "id": "lKt0wcw2zBt1"
      }
    },
    {
      "cell_type": "code",
      "source": [
        "# bitwise operators\n",
        "\n",
        "a = 10\n",
        "b = 4\n",
        "\n",
        "print(\"a & b =\", a & b)\n",
        "\n",
        "# Print bitwise OR operation\n",
        "print(\"a | b =\", a | b)\n",
        "\n",
        "# Print bitwise NOT operation\n",
        "print(\"~a =\", ~a)\n",
        "\n",
        "# print bitwise XOR operation\n",
        "print(\"a ^ b =\", a ^ b)"
      ],
      "metadata": {
        "colab": {
          "base_uri": "https://localhost:8080/"
        },
        "id": "fGxrwgnbzIzO",
        "outputId": "05fb27ae-eac1-443e-8557-dbd56c24555a"
      },
      "execution_count": 7,
      "outputs": [
        {
          "output_type": "stream",
          "name": "stdout",
          "text": [
            "a & b = 0\n",
            "a | b = 14\n",
            "~a = -11\n",
            "a ^ b = 14\n"
          ]
        }
      ]
    },
    {
      "cell_type": "markdown",
      "source": [
        "7. Use unary operators to change the sign of a n$mber."
      ],
      "metadata": {
        "id": "Zgv11xI8zVXp"
      }
    },
    {
      "cell_type": "code",
      "source": [
        "A = [1, -3]\n",
        "A = [-A[0]\n",
        "if A[-1] < 0 else A[0], A[-1]]\n",
        "\n",
        "print (A)"
      ],
      "metadata": {
        "colab": {
          "base_uri": "https://localhost:8080/"
        },
        "id": "0ZAPBH3SzgVq",
        "outputId": "148e3026-c68a-4cf1-a1dd-370d7a8fd05f"
      },
      "execution_count": 8,
      "outputs": [
        {
          "output_type": "stream",
          "name": "stdout",
          "text": [
            "[-1, -3]\n"
          ]
        }
      ]
    },
    {
      "cell_type": "markdown",
      "source": [
        "8.Use the ternary operator to assign values based on conditions."
      ],
      "metadata": {
        "id": "gxCokj-r0NXW"
      }
    },
    {
      "cell_type": "code",
      "source": [
        "a, b = 10, 20\n",
        "\n",
        "if a != b:\n",
        "    if a > b:\n",
        "        print(\"a is greater than b\")\n",
        "    else:\n",
        "        print(\"b is greater than a\")\n",
        "else:\n",
        "    print(\"Both a and b are equal\")"
      ],
      "metadata": {
        "colab": {
          "base_uri": "https://localhost:8080/"
        },
        "id": "DzQshlRY0UUN",
        "outputId": "604d822d-9254-4fd7-e728-23a8a9721b13"
      },
      "execution_count": 9,
      "outputs": [
        {
          "output_type": "stream",
          "name": "stdout",
          "text": [
            "b is greater than a\n"
          ]
        }
      ]
    }
  ]
}